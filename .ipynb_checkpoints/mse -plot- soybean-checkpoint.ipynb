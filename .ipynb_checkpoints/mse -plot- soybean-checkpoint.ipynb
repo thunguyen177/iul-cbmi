{
 "cells": [
  {
   "cell_type": "code",
   "execution_count": null,
   "id": "e2c943f1",
   "metadata": {},
   "outputs": [],
   "source": [
    "import numpy as np\n",
    "import pandas as pd\n",
    "from sklearn.preprocessing import LabelEncoder, StandardScaler\n",
    "from sklearn.metrics import mean_squared_error as mse\n",
    "\n",
    "from functions.eval import *\n",
    "from functions.cbi import *\n",
    "from functions.utils import *\n",
    "import warnings\n",
    "warnings.filterwarnings(\"ignore\")"
   ]
  },
  {
   "cell_type": "code",
   "execution_count": null,
   "id": "06868cf5",
   "metadata": {},
   "outputs": [],
   "source": [
    "nruns = 10\n",
    "imputer = MissForest(criterion = ('mse', 'gini'), random_state = 0)\n",
    "missing_rates = np.arange(1, 5)*0.2\n",
    "test_size = 0.4"
   ]
  },
  {
   "cell_type": "code",
   "execution_count": null,
   "id": "c5e7bd07",
   "metadata": {},
   "outputs": [],
   "source": [
    "data = pd.read_csv('https://archive.ics.uci.edu/ml/machine-learning-databases/soybean/soybean-small.data',\n",
    "                  sep = \",\", header = None)\n",
    "data.head()\n",
    "\n",
    "data = data.to_numpy()\n",
    "X,y = data[:, [x for x in range(data.shape[1]) if x != 35]].astype(np.float32),data[:,-1]\n",
    "G = len(np.unique(y))\n",
    "le2 = LabelEncoder()\n",
    "y = le2.fit_transform(y)\n",
    "for g in range(G):\n",
    "  print(sum(y==g))\n",
    "\n",
    "#print(y)\n",
    "X.shape"
   ]
  },
  {
   "cell_type": "code",
   "execution_count": null,
   "id": "16404783",
   "metadata": {},
   "outputs": [],
   "source": []
  },
  {
   "cell_type": "code",
   "execution_count": null,
   "id": "c8c1f742",
   "metadata": {},
   "outputs": [],
   "source": [
    "def one_run(X, y, imputer = MissForest(), missing_rate = 0.8, cat_vars = None):\n",
    "     \n",
    "    X_missing = introduce_missing_data(X.copy(), missing_rate)\n",
    "    \n",
    "    X_cbi, _ = cbi_train(X_missing, y, cat_vars, imputer)\n",
    "    \n",
    "    X_imputed = imputer.fit_transform(X_missing, cat_vars = cat_vars)\n",
    "    \n",
    "    return mse(X, X_cbi), mse(X,X_imputed)"
   ]
  },
  {
   "cell_type": "code",
   "execution_count": null,
   "id": "180356e5",
   "metadata": {
    "scrolled": true
   },
   "outputs": [],
   "source": [
    "res_all = []\n",
    "for missing_rate in missing_rates:\n",
    "    res = np.array([one_run(X, y, imputer = imputer,  missing_rate = missing_rate) for i in range(nruns)])\n",
    "    res = np.array([np.mean(res, axis = 0)]).flatten().round(3)\n",
    "    print(\"result at missing rate\", missing_rate, \"\\n\", res)\n",
    "    res_all.append(res)   "
   ]
  },
  {
   "cell_type": "code",
   "execution_count": null,
   "id": "d765a4c1",
   "metadata": {},
   "outputs": [],
   "source": [
    "from matplotlib import pyplot as plt\n",
    "df = pd.DataFrame(np.asarray(res_all), columns = ['IUL', 'DI'], index = missing_rates)\n",
    "plot = df.plot()\n",
    "plot.set_xlabel(\"missing rate\")\n",
    "plot.set_ylabel(\"MSE\")\n",
    "plt.xticks(missing_rates)\n",
    "plot.get_figure().savefig(\"heart.png\")"
   ]
  },
  {
   "cell_type": "code",
   "execution_count": null,
   "id": "463dbf0a",
   "metadata": {},
   "outputs": [],
   "source": []
  }
 ],
 "metadata": {
  "kernelspec": {
   "display_name": "Python 3 (ipykernel)",
   "language": "python",
   "name": "python3"
  },
  "language_info": {
   "codemirror_mode": {
    "name": "ipython",
    "version": 3
   },
   "file_extension": ".py",
   "mimetype": "text/x-python",
   "name": "python",
   "nbconvert_exporter": "python",
   "pygments_lexer": "ipython3",
   "version": "3.9.7"
  }
 },
 "nbformat": 4,
 "nbformat_minor": 5
}
